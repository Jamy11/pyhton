{
 "cells": [
  {
   "cell_type": "code",
   "execution_count": null,
   "id": "010638c2",
   "metadata": {},
   "outputs": [],
   "source": [
    "# Mosh video"
   ]
  },
  {
   "cell_type": "code",
   "execution_count": 5,
   "id": "0aa27321",
   "metadata": {},
   "outputs": [
    {
     "name": "stdout",
     "output_type": "stream",
     "text": [
      "PYTHON FOR BEGINNERS\n"
     ]
    }
   ],
   "source": [
    "course = 'python for beginners'\n",
    "\n",
    "print(course.upper())"
   ]
  },
  {
   "cell_type": "code",
   "execution_count": 8,
   "id": "bf3c9cd7",
   "metadata": {},
   "outputs": [
    {
     "name": "stdout",
     "output_type": "stream",
     "text": [
      "6\n",
      "python with beginners\n"
     ]
    }
   ],
   "source": [
    "print(course.find(' '))\n",
    "print(course.replace('for', 'with'))\n"
   ]
  },
  {
   "cell_type": "code",
   "execution_count": 9,
   "id": "3ec599f0",
   "metadata": {},
   "outputs": [
    {
     "name": "stdout",
     "output_type": "stream",
     "text": [
      "True\n"
     ]
    }
   ],
   "source": [
    "print( 'python' in course)"
   ]
  },
  {
   "cell_type": "code",
   "execution_count": null,
   "id": "5aa3b708",
   "metadata": {},
   "outputs": [],
   "source": [
    "# arethmetic operataers "
   ]
  },
  {
   "cell_type": "code",
   "execution_count": 11,
   "id": "9d48b57b",
   "metadata": {},
   "outputs": [
    {
     "name": "stdout",
     "output_type": "stream",
     "text": [
      "3.3333333333333335\n",
      "3\n",
      "8\n"
     ]
    }
   ],
   "source": [
    "print(10/3) #will show decimal values\n",
    "print(10//3) # only show int values\n",
    "\n",
    "#power operater\n",
    "print(2**3)"
   ]
  },
  {
   "cell_type": "code",
   "execution_count": 16,
   "id": "bd5ffc67",
   "metadata": {},
   "outputs": [
    {
     "name": "stdout",
     "output_type": "stream",
     "text": [
      "True\n"
     ]
    }
   ],
   "source": [
    "price  = 25\n",
    "print( price > 10 or price <30 )"
   ]
  },
  {
   "cell_type": "code",
   "execution_count": 17,
   "id": "f94fbfde",
   "metadata": {},
   "outputs": [
    {
     "name": "stdout",
     "output_type": "stream",
     "text": [
      "15 r checye bro\n"
     ]
    }
   ],
   "source": [
    "if price < 10:\n",
    "    print(\"10 r checye choto\")\n",
    "elif price < 15:\n",
    "    print(\"15 r checye choto\")\n",
    "else:\n",
    "    print(\"15 r checye bro\")"
   ]
  },
  {
   "cell_type": "code",
   "execution_count": null,
   "id": "d7dd61ee",
   "metadata": {},
   "outputs": [],
   "source": [
    "#llop"
   ]
  },
  {
   "cell_type": "code",
   "execution_count": 18,
   "id": "bef155e1",
   "metadata": {},
   "outputs": [
    {
     "name": "stdout",
     "output_type": "stream",
     "text": [
      "*\n",
      "**\n",
      "***\n",
      "****\n",
      "*****\n",
      "******\n",
      "*******\n",
      "********\n",
      "*********\n",
      "**********\n"
     ]
    }
   ],
   "source": [
    "i = 1\n",
    "while i <= 10:\n",
    "    print(i * '*') # * ai sign r nam asterisks\n",
    "    i+=1"
   ]
  },
  {
   "cell_type": "code",
   "execution_count": 20,
   "id": "32ca52b4",
   "metadata": {},
   "outputs": [],
   "source": [
    "#list"
   ]
  },
  {
   "cell_type": "code",
   "execution_count": 22,
   "id": "c617ff89",
   "metadata": {},
   "outputs": [
    {
     "name": "stdout",
     "output_type": "stream",
     "text": [
      "john\n",
      "foysal\n"
     ]
    }
   ],
   "source": [
    "names =['john', 'dee', 'jamy', 'mithila', 'foysal']\n",
    "print(names[0])\n",
    "print(names[-1]) # back theke kaj kre"
   ]
  },
  {
   "cell_type": "code",
   "execution_count": 23,
   "id": "616ce41e",
   "metadata": {},
   "outputs": [
    {
     "name": "stdout",
     "output_type": "stream",
     "text": [
      "['john', 'dee', 'jamy', 'mithila', 'foysal']\n",
      "['john', 'dee', 'jamy']\n"
     ]
    }
   ],
   "source": [
    "print(names)\n",
    "print(names[0:3])"
   ]
  },
  {
   "cell_type": "code",
   "execution_count": 27,
   "id": "c2526f35",
   "metadata": {},
   "outputs": [
    {
     "name": "stdout",
     "output_type": "stream",
     "text": [
      "[1, 2, 3, 4, 5]\n",
      "5\n"
     ]
    }
   ],
   "source": [
    "number = [1,2,3,4,5]\n",
    "# number.append(6)\n",
    "# number.insert(0,-1) # inster at spacific index\n",
    "# number.clear() # cleare whole list\n",
    "print(number)\n",
    "print(len(number))"
   ]
  },
  {
   "cell_type": "code",
   "execution_count": 28,
   "id": "2c1775c0",
   "metadata": {},
   "outputs": [
    {
     "name": "stdout",
     "output_type": "stream",
     "text": [
      "1\n",
      "2\n",
      "3\n",
      "4\n",
      "5\n"
     ]
    }
   ],
   "source": [
    "for item in number:\n",
    "    print(item)"
   ]
  },
  {
   "cell_type": "code",
   "execution_count": 29,
   "id": "51fa0547",
   "metadata": {},
   "outputs": [],
   "source": [
    "#range func"
   ]
  },
  {
   "cell_type": "code",
   "execution_count": 42,
   "id": "90b53dfd",
   "metadata": {},
   "outputs": [
    {
     "name": "stdout",
     "output_type": "stream",
     "text": [
      "10\n",
      "9\n",
      "8\n",
      "7\n",
      "6\n"
     ]
    }
   ],
   "source": [
    "# range_numbers = range(5) # 1-4\n",
    "# range_numbers = range(5,10) # 5-9\n",
    "# range_numbers = range(10,5,2) # 5,7,9\n",
    "range_numbers = range(10,5,-1) # 10-6\n",
    "\n",
    "for item in range_numbers:\n",
    "    print(item)"
   ]
  },
  {
   "cell_type": "code",
   "execution_count": 43,
   "id": "0dbb6537",
   "metadata": {},
   "outputs": [
    {
     "name": "stdout",
     "output_type": "stream",
     "text": [
      "0\n",
      "1\n",
      "2\n",
      "3\n",
      "4\n"
     ]
    }
   ],
   "source": [
    "for item in range(5):\n",
    "    print(item)"
   ]
  },
  {
   "cell_type": "code",
   "execution_count": 44,
   "id": "3fa0a02e",
   "metadata": {},
   "outputs": [],
   "source": [
    "#tuples"
   ]
  },
  {
   "cell_type": "code",
   "execution_count": 51,
   "id": "a9d79220",
   "metadata": {},
   "outputs": [
    {
     "name": "stdout",
     "output_type": "stream",
     "text": [
      "0\n"
     ]
    }
   ],
   "source": [
    "tuple_numbers = (1,2,3,3)\n",
    "print(tuple_numbers.count(5))"
   ]
  },
  {
   "cell_type": "markdown",
   "id": "9f71eadb",
   "metadata": {},
   "source": []
  },
  {
   "cell_type": "code",
   "execution_count": null,
   "id": "8e6cbaa1",
   "metadata": {},
   "outputs": [],
   "source": []
  }
 ],
 "metadata": {
  "kernelspec": {
   "display_name": "Python 3",
   "language": "python",
   "name": "python3"
  },
  "language_info": {
   "codemirror_mode": {
    "name": "ipython",
    "version": 3
   },
   "file_extension": ".py",
   "mimetype": "text/x-python",
   "name": "python",
   "nbconvert_exporter": "python",
   "pygments_lexer": "ipython3",
   "version": "3.8.8"
  }
 },
 "nbformat": 4,
 "nbformat_minor": 5
}
