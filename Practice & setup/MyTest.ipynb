{
 "cells": [
  {
   "cell_type": "code",
   "execution_count": 19,
   "id": "54d922d1",
   "metadata": {},
   "outputs": [
    {
     "name": "stdout",
     "output_type": "stream",
     "text": [
      "[44, 49, 86, 88, 80, 65, 10, 55, 52, 23, 60, 71, 66, 56, 31, 41, 50, 9, 48, 39, 43, 34, 6, 38, 35, 82, 93, 58, 8, 95, 40, 7, 3, 96, 81, 90, 78, 75, 84, 15, 79, 27, 26, 94, 98, 67, 4, 54, 17, 2, 11, 20, 77, 85, 63, 69, 37, 62, 57, 14, 97, 21, 5, 36, 42, 73, 64, 0, 29, 61, 45, 25, 74, 16, 30, 76, 68, 99, 83, 59, 92, 18, 46, 47, 87, 12, 53, 32, 72, 13, 22, 19, 24, 70, 28, 91, 1, 51, 33, 89]\n"
     ]
    }
   ],
   "source": [
    "import random\n",
    "# n = random.sample(range(100),100)\n",
    "# print(n)\n",
    "print(list(random.sample(range(100),100)))\n",
    "# newRandom = [ x for x in range()]  not possible\n",
    "# print(newRandom=5)"
   ]
  },
  {
   "cell_type": "code",
   "execution_count": 7,
   "id": "6160cd10",
   "metadata": {},
   "outputs": [
    {
     "name": "stdout",
     "output_type": "stream",
     "text": [
      "[1, 9, 1, 9, 1, 9]\n"
     ]
    }
   ],
   "source": [
    "list2 = [1, 9]\n",
    "list3 = [4,9]\n",
    "list3  = 3 * list2\n",
    "print(list3)"
   ]
  },
  {
   "cell_type": "code",
   "execution_count": 10,
   "id": "84c45ead",
   "metadata": {},
   "outputs": [
    {
     "name": "stdout",
     "output_type": "stream",
     "text": [
      "[34, 13, 78, 45]\n"
     ]
    }
   ],
   "source": [
    "items = \"34#13#78#45\".split(\"#\")\n",
    "items = list(map(int, items))\n",
    "print(items)"
   ]
  },
  {
   "cell_type": "code",
   "execution_count": 29,
   "id": "90486b5a",
   "metadata": {},
   "outputs": [
    {
     "name": "stdout",
     "output_type": "stream",
     "text": [
      "[0, 1, 2, 3, 4, 5, 6, 7, 8, 9, 10, 11, 12, 13, 14, 15, 16, 17, 18, 19, 20, 21, 22, 23, 24, 25, 26, 27, 28, 29, 30, 31, 32, 33, 34, 35, 36, 37, 38, 39, 40, 41, 42, 43, 44, 45, 46, 47, 48, 49, 50, 51]\n",
      "check not condition in int list False\n",
      "check in condition in int list True\n",
      "check in condition in string True\n",
      "check in condition in string False\n"
     ]
    }
   ],
   "source": [
    "deck = [x for x in range(0, 52)]\n",
    "print(deck)\n",
    "\n",
    "print( 'check not condition in int list',51 not in deck)\n",
    "print('check in condition in int list',51 in deck)\n",
    "print('check in condition in string','51' in '5123')\n",
    "print('check in condition in string','513' in '5123')"
   ]
  },
  {
   "cell_type": "code",
   "execution_count": null,
   "id": "100ff615",
   "metadata": {},
   "outputs": [],
   "source": []
  }
 ],
 "metadata": {
  "kernelspec": {
   "display_name": "Python 3",
   "language": "python",
   "name": "python3"
  },
  "language_info": {
   "codemirror_mode": {
    "name": "ipython",
    "version": 3
   },
   "file_extension": ".py",
   "mimetype": "text/x-python",
   "name": "python",
   "nbconvert_exporter": "python",
   "pygments_lexer": "ipython3",
   "version": "3.8.8"
  }
 },
 "nbformat": 4,
 "nbformat_minor": 5
}
