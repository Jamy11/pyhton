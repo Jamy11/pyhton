{
 "cells": [
  {
   "cell_type": "code",
   "execution_count": 1,
   "id": "42574de2",
   "metadata": {},
   "outputs": [
    {
     "name": "stdout",
     "output_type": "stream",
     "text": [
      "Afsana Akter Mithila hello\n"
     ]
    }
   ],
   "source": [
    "class Empolyee:\n",
    "    no_of_emp = 0\n",
    "    pay_raise = 1.4\n",
    "    \n",
    "    def __init__(self,first,last,pay):\n",
    "        self.first = first\n",
    "        self.last = last\n",
    "        self.pay = pay\n",
    "        Empolyee.no_of_emp += 1\n",
    "        \n",
    "        \n",
    "    def apply_raise(self):\n",
    "        self.pay = self.pay * self.pay_raise\n",
    "        \n",
    "    def __repr__(self): # dunder method\n",
    "        return f\"{self.first} {self.last}\"\n",
    "    \n",
    "    def __str__(self): # dunder method\n",
    "        return f\"{self.first} {self.last}\"+ ' hello'\n",
    "    \n",
    "    @property #getter\n",
    "    def fullname(self):\n",
    "        return f\"{self.first} {self.last}\"\n",
    "    \n",
    "    @fullname.setter #setter\n",
    "    def fullname(self, name):\n",
    "        self.first , self.last = name.split(' ')\n",
    "    \n",
    "    @fullname.deleter #deletor\n",
    "    def fullname(self):\n",
    "        self.first, self.last = None, None\n",
    "\n",
    "class Developer(Empolyee):\n",
    "    def __init__(self, first,last,pay, role):\n",
    "        super().__init__(first,last,pay)\n",
    "        self.role = role\n",
    "\n",
    "emp1 = Empolyee('Al Jamy','Ar Rahman',500000)\n",
    "dev1 = Developer('Afsana Akter','Mithila',500000, 'Developer of js')\n",
    "\n",
    "\n",
    "# del emp1.fullname\n",
    "# print(emp1.fullname)\n",
    "\n",
    "# emp1.fullname = 'Foysal Arif'\n",
    "# print(emp1.fullname)\n",
    "# emp1.apply_raise()\n",
    "# print(emp1.pay)\n",
    "\n",
    "print(dev1)\n"
   ]
  },
  {
   "cell_type": "code",
   "execution_count": null,
   "id": "22c94984",
   "metadata": {},
   "outputs": [],
   "source": []
  }
 ],
 "metadata": {
  "kernelspec": {
   "display_name": "Python 3",
   "language": "python",
   "name": "python3"
  },
  "language_info": {
   "codemirror_mode": {
    "name": "ipython",
    "version": 3
   },
   "file_extension": ".py",
   "mimetype": "text/x-python",
   "name": "python",
   "nbconvert_exporter": "python",
   "pygments_lexer": "ipython3",
   "version": "3.8.8"
  }
 },
 "nbformat": 4,
 "nbformat_minor": 5
}
