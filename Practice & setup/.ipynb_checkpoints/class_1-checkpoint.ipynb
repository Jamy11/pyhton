{
 "cells": [
  {
   "cell_type": "code",
   "execution_count": 3,
   "id": "0a2d3879",
   "metadata": {},
   "outputs": [
    {
     "name": "stdout",
     "output_type": "stream",
     "text": [
      "Picchi Pugni\n",
      "Object Emp 1 =  55000\n",
      "Object Emp 1 =  52000\n",
      "2\n",
      "\n",
      "\n",
      "\n",
      "\n",
      "\n"
     ]
    },
    {
     "ename": "TypeError",
     "evalue": "from_string() missing 1 required positional argument: 'emp_str'",
     "output_type": "error",
     "traceback": [
      "\u001b[0;31m---------------------------------------------------------------------------\u001b[0m",
      "\u001b[0;31mTypeError\u001b[0m                                 Traceback (most recent call last)",
      "\u001b[0;32m<ipython-input-3-38d0862a95cc>\u001b[0m in \u001b[0;36m<module>\u001b[0;34m\u001b[0m\n\u001b[1;32m     46\u001b[0m \u001b[0mprint\u001b[0m\u001b[0;34m(\u001b[0m\u001b[0;34m''\u001b[0m\u001b[0;34m)\u001b[0m\u001b[0;34m\u001b[0m\u001b[0;34m\u001b[0m\u001b[0m\n\u001b[1;32m     47\u001b[0m \u001b[0mprint\u001b[0m\u001b[0;34m(\u001b[0m\u001b[0;34m''\u001b[0m\u001b[0;34m)\u001b[0m\u001b[0;34m\u001b[0m\u001b[0;34m\u001b[0m\u001b[0m\n\u001b[0;32m---> 48\u001b[0;31m \u001b[0memp_3\u001b[0m \u001b[0;34m=\u001b[0m \u001b[0mEmployee\u001b[0m\u001b[0;34m.\u001b[0m\u001b[0mfrom_string\u001b[0m\u001b[0;34m(\u001b[0m\u001b[0;34m'jamy-rahman-100000'\u001b[0m\u001b[0;34m)\u001b[0m\u001b[0;34m\u001b[0m\u001b[0;34m\u001b[0m\u001b[0m\n\u001b[0m\u001b[1;32m     49\u001b[0m \u001b[0mprint\u001b[0m\u001b[0;34m(\u001b[0m\u001b[0memp_3\u001b[0m\u001b[0;34m.\u001b[0m\u001b[0m__dict__\u001b[0m\u001b[0;34m)\u001b[0m\u001b[0;34m\u001b[0m\u001b[0;34m\u001b[0m\u001b[0m\n",
      "\u001b[0;31mTypeError\u001b[0m: from_string() missing 1 required positional argument: 'emp_str'"
     ]
    }
   ],
   "source": [
    "class Employee:\n",
    "    numberOfEmployee = 0\n",
    "    raise_salary = 1.04\n",
    "    def __init__(self, first, last, pay):\n",
    "        self.first = first\n",
    "        self.last = last\n",
    "        self.pay = pay\n",
    "        self.email = first + '.' + last + '.@cpompany.com'\n",
    "        Employee.numberOfEmployee += 1\n",
    "        \n",
    "    def fullName(self):\n",
    "        return f\"{self.first} {self.last}\"\n",
    "    \n",
    "    def incres_sal(self):\n",
    "        return int(self.pay * self.raise_salary)\n",
    "    \n",
    "    @classmethod\n",
    "    def from_string(cls, emp_str):\n",
    "        first , last , pay = emp_str.split('-')\n",
    "        return cls(first , last , pay)\n",
    "    \n",
    "emp_1 = Employee('Picchi', 'Pugni', 50000)\n",
    "emp_2 = Employee('Bro', 'Pugni', 50000)\n",
    "\n",
    "# print(emp_1)\n",
    "print(emp_1.fullName())\n",
    "Employee.fullName(emp_2)\n",
    "# print(emp_2)\n",
    "\n",
    "# 2nd concept class variable\n",
    "\n",
    "emp_1.raise_salary = 1.10\n",
    "\n",
    "\n",
    "print('Object Emp 1 = ',emp_1.incres_sal())\n",
    "print('Object Emp 1 = ',emp_2.incres_sal())\n",
    "print(Employee.numberOfEmployee)\n",
    "# print('Object Emp 2 = ',emp_2.incres_sal)\n",
    "# print('Class Employee = ',Employee.raise_salary)\n",
    "# print('Class = ',Employee.__dict__)\n",
    "\n",
    "#alter native Construtor 33333333333\n",
    "print('')\n",
    "print('')\n",
    "print('')\n",
    "print('')\n",
    "print('')\n",
    "emp_3 = Employee.from_string('jamy-rahman-100000')\n",
    "print(emp_3.__dict__)"
   ]
  },
  {
   "cell_type": "code",
   "execution_count": null,
   "id": "66e5e02e",
   "metadata": {},
   "outputs": [],
   "source": []
  }
 ],
 "metadata": {
  "kernelspec": {
   "display_name": "Python 3",
   "language": "python",
   "name": "python3"
  },
  "language_info": {
   "codemirror_mode": {
    "name": "ipython",
    "version": 3
   },
   "file_extension": ".py",
   "mimetype": "text/x-python",
   "name": "python",
   "nbconvert_exporter": "python",
   "pygments_lexer": "ipython3",
   "version": "3.8.8"
  }
 },
 "nbformat": 4,
 "nbformat_minor": 5
}
