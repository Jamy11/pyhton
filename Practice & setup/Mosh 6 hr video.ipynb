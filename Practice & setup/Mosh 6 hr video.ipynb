{
 "cells": [
  {
   "cell_type": "markdown",
   "id": "9236dba2",
   "metadata": {},
   "source": [
    "# https://www.youtube.com/watch?v=_uQrJ0TkZlc"
   ]
  },
  {
   "cell_type": "code",
   "execution_count": 4,
   "id": "fc97a3e4",
   "metadata": {},
   "outputs": [
    {
     "name": "stdout",
     "output_type": "stream",
     "text": [
      "(1,2)\n"
     ]
    }
   ],
   "source": [
    "# nested loop\n",
    "print(f'({1},{2})')"
   ]
  },
  {
   "cell_type": "code",
   "execution_count": 11,
   "id": "d08cd7b1",
   "metadata": {},
   "outputs": [],
   "source": [
    "number = [5,2,5,2,2]\n",
    "\n",
    "#inner loop\n",
    "# for x in number:\n",
    "#     a = ''\n",
    "#     for y in range(x):\n",
    "#         a += '*'\n",
    "#     print(a)\n",
    "\n",
    "#multi\n",
    "# for x in number:\n",
    "#     print('*' * x)"
   ]
  },
  {
   "cell_type": "code",
   "execution_count": 17,
   "id": "bc09a23d",
   "metadata": {},
   "outputs": [
    {
     "name": "stdout",
     "output_type": "stream",
     "text": [
      "['Mosh', 'Sarah', 'Mary']\n"
     ]
    }
   ],
   "source": [
    "name_list = ['John', 'Bob', 'Mosh', 'Sarah', 'Mary']\n",
    "print(name_list[2:5])"
   ]
  },
  {
   "cell_type": "code",
   "execution_count": 18,
   "id": "087d024e",
   "metadata": {},
   "outputs": [
    {
     "name": "stdout",
     "output_type": "stream",
     "text": [
      "The meeting day will be  2\n"
     ]
    }
   ],
   "source": [
    "# using reminder operator & day calculate\n",
    "today=6 # day number 6=saturday\n",
    "dayAfater=10 # after 10 days\n",
    "aWeek=7 #A week has 7  days \n",
    "\n",
    "meetingday=(today + dayAfater) % aWeek\n",
    "print(\"The meeting day will be \", meetingday)"
   ]
  },
  {
   "cell_type": "code",
   "execution_count": null,
   "id": "407dcf17",
   "metadata": {},
   "outputs": [],
   "source": []
  }
 ],
 "metadata": {
  "kernelspec": {
   "display_name": "Python 3",
   "language": "python",
   "name": "python3"
  },
  "language_info": {
   "codemirror_mode": {
    "name": "ipython",
    "version": 3
   },
   "file_extension": ".py",
   "mimetype": "text/x-python",
   "name": "python",
   "nbconvert_exporter": "python",
   "pygments_lexer": "ipython3",
   "version": "3.8.8"
  }
 },
 "nbformat": 4,
 "nbformat_minor": 5
}
