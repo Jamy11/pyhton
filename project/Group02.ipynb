{
 "cells": [
  {
   "cell_type": "markdown",
   "id": "bf7460ca",
   "metadata": {},
   "source": [
    "# ENGI9818 Assignment 1\n",
    "\n",
    "Due on Wednesday, February 1st, 2023\n",
    "\n",
    "\n",
    "*Any two identical submitted assignments from different students will be considered as copies of each other.*\n",
    "\n",
    "Save your assignment as an `ipynb` file with a filename ”Group02.ipynb” [For instance, Group01, Group02, ...]. Submit your assignment through the BrightSpace dropbox. Note: This is a group assignment which means in order to see the dropbox folder, you must join one of the groups in BrightSpace.\n",
    "\n",
    "### Group02:"
   ]
  },
  {
   "cell_type": "markdown",
   "id": "ab303cab",
   "metadata": {},
   "source": [
    "## Question 1\n",
    "\n",
    "Write a program that reads in investment amount, annual interest rate, and number of years, and displays the future investment value using the following formula:\n",
    "and displays the future investment value using the following formula:\n",
    "\n",
    "futureInvestmentValue = \n",
    "  investmentAmount * (1 + monthlyInterestRate)numberOfYears*12\n",
    "\n",
    "For example, if you enter amount 1000, annual interest rate 3.25%, and number of years 1, the future investment value is 1032.98. \n",
    "\n",
    "Hint: Use the Math.pow(a, b) method to compute a raised to the power of b. \n",
    "\n",
    "Here is a sample run:\n",
    "\n",
    "\n",
    "Sample 1:<br>\n",
    "Enter investment amount: 1000<br>\n",
    "Enter annual interest rate: 4.25<br>\n",
    "Enter number of years: 1<br>\n",
    "Accumulated value is 1043.34<br>\n",
    "\n",
    "Sample 2:<br>\n",
    "Enter investment amount: 1000<br>\n",
    "Enter annual interest rate: 4.25<br>\n",
    "Enter number of years: 1<br>\n",
    "Accumulated value is 1043.34<br>"
   ]
  },
  {
   "cell_type": "code",
   "execution_count": 1,
   "id": "c0b4c052",
   "metadata": {
    "scrolled": true
   },
   "outputs": [
    {
     "name": "stdout",
     "output_type": "stream",
     "text": [
      "Enter investment amount: 1000\n",
      "Enter annual interest rate: 4.25\n",
      "Enter number of years: 1\n",
      "1043.34\n",
      " \n",
      "Test Case 2\n",
      "\n",
      "Enter investment amount: 2000\n",
      "Enter annual interest rate: 4.25\n",
      "Enter number of years: 1\n",
      "2086.68\n"
     ]
    }
   ],
   "source": [
    "import math\n",
    "\n",
    "def qus_1():\n",
    "    investmentAmount = eval(input(\"Enter investment amount: \"))\n",
    "    monthlyInterestRate = (eval(input(\"Enter annual interest rate: \"))/ 100) / 12\n",
    "    numberOfYears = eval(input(\"Enter number of years: \"))\n",
    "    print( \"{:.2f}\".format(investmentAmount * math.pow((1 + monthlyInterestRate), (numberOfYears*12) )) ) \n",
    "    return \n",
    "\n",
    "# test case\n",
    "qus_1()\n",
    "print(' \\nTest Case 2\\n')\n",
    "qus_1()"
   ]
  },
  {
   "cell_type": "markdown",
   "id": "2ceb3709",
   "metadata": {},
   "source": [
    "## Question 2\n",
    "\n",
    "Write a program that reads the following information and prints a payroll statement: <br>\n",
    "\n",
    "    Employee’s name (e.g., Smith)\n",
    "    Number of hours worked in a week (e.g., 10)\n",
    "    Hourly pay rate (e.g., 6.75)\n",
    "    Federal tax withholding rate (e.g., 20%)\n",
    "    State tax withholding rate (e.g., 9%)\n",
    "\n",
    "A sample run is shown below:\n",
    "\n",
    "    <Output>\n",
    "    Enter employee's name: Smith\n",
    "    Enter number of hours worked in a week: 10\n",
    "    Enter hourly pay rate: 6.75\n",
    "    Enter federal tax withholding rate: 0.20\n",
    "    Enter state tax withholding rate: 0.09\n",
    "\n",
    "    Employee Name: Smith\n",
    "    Hours Worked:  10.0\n",
    "    Pay Rate:  $6.75\n",
    "Gross Pay:  $67.5\n",
    "    Deductions:\n",
    "        Federal Withholding (20.0%):  $13.5\n",
    "    State Withholding (9.0%):  $6.07\n",
    "        Total Deduction:  $19.57\n",
    "Net Pay:   $47.92\n",
    "    <End Output>"
   ]
  },
  {
   "cell_type": "code",
   "execution_count": 2,
   "id": "2f6ec63a",
   "metadata": {},
   "outputs": [
    {
     "name": "stdout",
     "output_type": "stream",
     "text": [
      "Enter employee's name: Smith\n",
      "Enter number of hours worked in a week: 10\n",
      "Enter hourly pay rate: 6.75\n",
      "Enter federal tax withholding rate: .20\n",
      "Enter state tax withholding rate: .09\n",
      "\n",
      "Employee Name: Smith\n",
      "Hours Worked: 10\n",
      "Pay Rate: $6.75\n",
      "Gross Pay: $67.5\n",
      "Deductions:\n",
      "\tFederal Withholding (20.00)%: $13.50\n",
      "\tState Withholding (9.00)%: $6.08\n",
      "\tTotal Deduction: $19.57\n",
      "Net Pay: $47.92\n",
      " \n",
      "Test Case 2\n",
      "\n",
      "Enter employee's name: Jamy\n",
      "Enter number of hours worked in a week: 10\n",
      "Enter hourly pay rate: 6.75\n",
      "Enter federal tax withholding rate: .30\n",
      "Enter state tax withholding rate: .18\n",
      "\n",
      "Employee Name: Jamy\n",
      "Hours Worked: 10\n",
      "Pay Rate: $6.75\n",
      "Gross Pay: $67.5\n",
      "Deductions:\n",
      "\tFederal Withholding (30.00)%: $20.25\n",
      "\tState Withholding (18.00)%: $12.15\n",
      "\tTotal Deduction: $32.40\n",
      "Net Pay: $35.10\n"
     ]
    }
   ],
   "source": [
    "def qus_2():\n",
    "    employee_name = input(\"Enter employee's name: \")\n",
    "    hours_worked_in_a_week = eval(input(\"Enter number of hours worked in a week: \"))\n",
    "    hourly_pay_rate = eval(input(\"Enter hourly pay rate: \"))\n",
    "    federal_tax_rate = eval(input(\"Enter federal tax withholding rate: \"))\n",
    "    state_tax_rate = eval(input(\"Enter state tax withholding rate: \"))\n",
    "    gross_pay = hourly_pay_rate*hours_worked_in_a_week\n",
    "    total_deduction = ( gross_pay*federal_tax_rate ) + ( gross_pay*state_tax_rate )\n",
    "\n",
    "    print('')\n",
    "    print(f\"Employee Name: {employee_name}\")\n",
    "    print(f\"Hours Worked: {hours_worked_in_a_week}\")\n",
    "    print(f\"Pay Rate: ${hourly_pay_rate}\")\n",
    "    print(f\"Gross Pay: ${gross_pay}\")\n",
    "\n",
    "    print('Deductions:')\n",
    "    print(f\"\\tFederal Withholding ({'{:.2f}'.format(federal_tax_rate * 100)})%: ${ '{:.2f}'.format(gross_pay*federal_tax_rate) }\")\n",
    "    print(f\"\\tState Withholding ({'{:.2f}'.format(state_tax_rate * 100)})%: ${ '{:.2f}'.format(gross_pay*state_tax_rate) }\")\n",
    "    print(f\"\\tTotal Deduction: ${ '{:.2f}'.format(total_deduction) }\" )\n",
    "    print(f\"Net Pay: ${ '{:.2f}'.format(gross_pay-total_deduction) }\" )\n",
    "    return \n",
    "\n",
    "# test case\n",
    "qus_2()\n",
    "print(' \\nTest Case 2\\n')\n",
    "qus_2()"
   ]
  },
  {
   "cell_type": "markdown",
   "id": "02b84a90",
   "metadata": {},
   "source": [
    "## Question 3\n",
    "\n",
    "Write a function that does the following. Given two float values, return their multiplication. Unless the two values are the same, then return triple their sum. Then test your function for both cases."
   ]
  },
  {
   "cell_type": "code",
   "execution_count": 3,
   "id": "3457d826",
   "metadata": {},
   "outputs": [
    {
     "name": "stdout",
     "output_type": "stream",
     "text": [
      "39.0\n",
      " \n",
      "Test Case 2\n",
      "\n",
      "24.0\n"
     ]
    }
   ],
   "source": [
    "def qus_3(a,b):\n",
    "    if a != b:\n",
    "        return a*b\n",
    "    return (a+b)*3\n",
    "\n",
    "# test case\n",
    "print(qus_3(6.0,6.5))\n",
    "print(' \\nTest Case 2\\n')\n",
    "print(qus_3(4.0,4))"
   ]
  },
  {
   "cell_type": "markdown",
   "id": "39fd5be9",
   "metadata": {},
   "source": [
    "## Question 4\n",
    "Define a function is_it_palindrome() that recognizes palindromes (i.e. words that look the same written backwards). For example, is_it_palindrome(\"Radar\") should return True. Then write a for loop to test the function for all strings in the list,\n",
    "```python \n",
    "l=[\n",
    "\"Anna\",\n",
    "\"Civic\",\n",
    "\"Kayak\",\n",
    "\"Level\",\n",
    "\"Madam\",\n",
    "\"Mom\",\n",
    "\"Noon\",\n",
    "\"Racecar\",\n",
    "\"Computer\"\n",
    "]"
   ]
  },
  {
   "cell_type": "code",
   "execution_count": 4,
   "id": "3452b2e2",
   "metadata": {},
   "outputs": [
    {
     "name": "stdout",
     "output_type": "stream",
     "text": [
      "True\n",
      "True\n",
      "True\n",
      "True\n",
      "True\n",
      "True\n",
      "True\n",
      "True\n",
      "False\n"
     ]
    }
   ],
   "source": [
    "def is_it_palindrome(test_string):\n",
    "    test_string = test_string.lower()\n",
    "    palindrome_test_string = ''.join(reversed(test_string))\n",
    "    return test_string == palindrome_test_string\n",
    "\n",
    "python_list=[ \"Anna\", \"Civic\", \"Kayak\", \"Level\", \"Madam\", \"Mom\", \"Noon\", \"Racecar\", \"Computer\" ]\n",
    "\n",
    "for item in python_list:\n",
    "    if (is_it_palindrome(item)):\n",
    "        print(True)\n",
    "    else:\n",
    "        print(False)"
   ]
  },
  {
   "cell_type": "markdown",
   "id": "607ab474",
   "metadata": {},
   "source": [
    "## Question 5\n",
    "\n",
    "\n",
    "Write a function that does the following. Given an int n, return True if it is within 20 of 50 or 150 (the distance between the number of either 50 or 150 is less than 20). Note that the given int n could be positive or negative or zero. You must use the function abs(num) to compute the absolute value of a number. Then test your function."
   ]
  },
  {
   "cell_type": "code",
   "execution_count": 5,
   "id": "4501711e",
   "metadata": {},
   "outputs": [
    {
     "name": "stdout",
     "output_type": "stream",
     "text": [
      "True\n",
      " \n",
      "Test Case 2\n",
      "\n",
      "True\n",
      " \n",
      "Test Case 3\n",
      "\n",
      "False\n"
     ]
    }
   ],
   "source": [
    "# n = eval(input('input value: '))\n",
    "def qus_4(n): \n",
    "    return ( (abs(n-50) < 20 ) or ( abs(n-150) < 20 ) )\n",
    "\n",
    "print( qus_4(31) )\n",
    "print(' \\nTest Case 2\\n')\n",
    "print( qus_4(131) )\n",
    "print(' \\nTest Case 3\\n')\n",
    "print( qus_4(-30) )"
   ]
  },
  {
   "cell_type": "markdown",
   "id": "80799c73",
   "metadata": {},
   "source": [
    "## Question 6\n",
    "Write a function that takes a character (i.e. a string of length 1) and returns True if it is a vowel, False otherwise. Write the the vowels as a string \"aAeEiIoOuU\", and make a condition if the input character is in the vowels string. Test the function."
   ]
  },
  {
   "cell_type": "code",
   "execution_count": 6,
   "id": "e4d5e17a",
   "metadata": {},
   "outputs": [
    {
     "name": "stdout",
     "output_type": "stream",
     "text": [
      "True\n",
      " \n",
      "Test Case 2\n",
      "\n",
      "False\n"
     ]
    }
   ],
   "source": [
    "def qus_6(a):\n",
    "    vowel = \"aAeEiIoOuU\"\n",
    "    if ( len(a) >= 1 and vowel.find(a[0]) != -1 ) :\n",
    "        return True\n",
    "    return False\n",
    "\n",
    "print(qus_6('a'))\n",
    "print(' \\nTest Case 2\\n')\n",
    "print(qus_6('j'))"
   ]
  },
  {
   "cell_type": "markdown",
   "id": "2d735954",
   "metadata": {},
   "source": [
    "## Question 7\n",
    "Write a program that reads integers, finds the largest of them, and counts its occurrences. Assume that the input ends with number 0. Suppose that you entered 3 5 2 5 5 5 0; the program finds that the largest is 5 and the occurrence count for 5 is 4. (Hint: Maintain two variables, max and count. max stores the current max number, and count stores its occurrences. Initially, assign the first number to max and 1 to count. Compare each subsequent number with max. If the number is greater than max, assign it to max and reset count to 1. If the number is equal to max, increment count by 1.)\n",
    "\n",
    "Here are sample runs of the program:\n",
    "\n",
    "Sample 1:<br>\n",
    "Enter numbers: 3<br>\n",
    "5<br>\n",
    "2<br>\n",
    "5<br>\n",
    "5<br>\n",
    "5<br>\n",
    "0<br>\n",
    "The largest number is 5 The occurrence count of the largest number is 4<br>\n",
    "\n",
    "Sample 2:<br>\n",
    "Enter numbers: 3 6 5 4 2 4 5 4 5 5 0<br>\n",
    "The largest number is 6 The occurrence count of the largest number is 1<br>"
   ]
  },
  {
   "cell_type": "code",
   "execution_count": 7,
   "id": "159bcc47",
   "metadata": {},
   "outputs": [
    {
     "name": "stdout",
     "output_type": "stream",
     "text": [
      "Enter numbers: 3 6 5 4 2 4 5 4 5 5 0\n",
      "The largest number is 6 The occurrence count of the largest number is 1\n",
      " \n",
      "Test Case 2\n",
      "\n",
      "Enter numbers: 5 4 2 4 5 4 5 5 0\n",
      "The largest number is 5 The occurrence count of the largest number is 4\n"
     ]
    }
   ],
   "source": [
    "def qus_7():\n",
    "    number = list( map( int, (input(\"Enter numbers: \")).split( ' ' ) ) )\n",
    "\n",
    "    max_number = number[0]\n",
    "    count = 0\n",
    "\n",
    "    for x in number:\n",
    "        if x > max_number:\n",
    "            max_number = x\n",
    "\n",
    "    for x in number:\n",
    "        if x == max_number:\n",
    "            count += 1\n",
    "\n",
    "    print(f\"The largest number is {max_number} The occurrence count of the largest number is {count}\")\n",
    "    \n",
    "    return\n",
    "\n",
    "qus_7()\n",
    "print(' \\nTest Case 2\\n')\n",
    "qus_7()"
   ]
  },
  {
   "cell_type": "markdown",
   "id": "435c5d32",
   "metadata": {},
   "source": [
    "## Question 8\n",
    "\n",
    "In English, the present participle is formed by adding the suffix -ing to the infinite form: go -> going. A simple set of heuristic rules can be given as follows:\n",
    "\n",
    "* If the verb ends in e, drop the e and add ing (if not exception: be, see, flee, knee, etc.)\n",
    "* If the verb ends in ie, change ie to y and add ing\n",
    "* For words consisting of consonant-vowel-consonant, double the final letter before adding ing\n",
    "* By default just add ing\n",
    "\n",
    "Your task in this exercise is to define a function make_ing_form_English() which given a verb in infinitive form returns its present participle form. Test your function with words such as lie, see, move and hug. However, you must not expect such simple rules to work for all cases."
   ]
  },
  {
   "cell_type": "code",
   "execution_count": 8,
   "id": "548a82c2",
   "metadata": {
    "scrolled": true
   },
   "outputs": [
    {
     "name": "stdout",
     "output_type": "stream",
     "text": [
      "dying\n",
      "being\n",
      "abusing\n",
      "strapping\n",
      "going\n",
      "crying\n"
     ]
    }
   ],
   "source": [
    "def make_ing_form_English(given_text):\n",
    "    vowel = 'aeiou'\n",
    "    exception = [ 'be', 'see', 'flee', 'knee' ]\n",
    "    if (given_text.endswith('ie')):\n",
    "        return given_text[:-2] + 'ying'\n",
    "    \n",
    "    elif (given_text.endswith('e')):\n",
    "        if given_text in exception:\n",
    "            return given_text + 'ing'\n",
    "        else:\n",
    "            return given_text[:-1] + 'ing'\n",
    "        \n",
    "    elif len(given_text) >= 3: # to check if the string size is greater or eqal to 3 or not cause it was throwing error\n",
    "        if ( vowel.find(given_text[-3]) == -1 ) and ( vowel.find(given_text[-2]) >= 0 ) and ( vowel.find(given_text[-1]) == -1 ):\n",
    "            return given_text + given_text[-1] + 'ing'\n",
    "        \n",
    "    #did not use else for \"Cry\" test case as it would have gone to 3rd Condition and would not go to four condition\n",
    "    return given_text+'ing'\n",
    "\n",
    "    \n",
    "qus_8_test_case = [ 'die', 'be', 'abuse' , 'strap', 'go', 'cry' ]\n",
    "\n",
    "for word in qus_8_test_case:\n",
    "    print(make_ing_form_English(word))"
   ]
  },
  {
   "cell_type": "markdown",
   "id": "b3969bc1",
   "metadata": {},
   "source": [
    "## Question 9\n",
    "\n",
    "Write a function that computes future investment value at a given interest rate for a specified number of years. The future investment is determined using the following formula:\n",
    "\n",
    "futureInvestmentValue = <br>\n",
    "  investmentAmount x (1 + monthlyInterestRate)numberOfYears*12\n",
    "\n",
    "Use the following method header:<br>\n",
    "\n",
    "def futureInvestmentValue(<br>\n",
    "    investmentAmount, monthlyInterestRate, years)<br>\n",
    "\n",
    "For example, futureInvestmentValue(10000, 0.05/12, 5) returns 12833.59. <br>\n",
    "\n",
    "Write a test program that prompts the user to enter the investment amount (e.g., 1000) and the interest rate (e.g., 9%) and prints a table that displays future value for the years from 1 to 30, as shown below:<br>\n",
    "\n",
    "    The amount invested: 1000\n",
    "    --------------------------\n",
    "    Annual interest rate: 9%\n",
    "    --------------------------\n",
    "    Years\t\tFuture Value\n",
    "    --------------------------\n",
    "    1\t\t\t 1093.80\n",
    "    --------------------------\n",
    "    2\t\t\t 1196.41\n",
    "    --------------------------\n",
    "    ...\n",
    "    --------------------------\n",
    "    29\t\t\t13467.25\n",
    "    --------------------------\n",
    "    30\t\t\t14730.57\n",
    "    --------------------------\n"
   ]
  },
  {
   "cell_type": "code",
   "execution_count": 9,
   "id": "80169e92",
   "metadata": {},
   "outputs": [
    {
     "name": "stdout",
     "output_type": "stream",
     "text": [
      "The amount invested: 1000\n",
      "--------------------------\n",
      "Enter annual interest rate: 9%\n",
      "--------------------------\n",
      "Years\t\tFuture Value\n",
      "1\t\t1093.80\n",
      "--------------------------\n",
      "2\t\t1196.41\n",
      "--------------------------\n",
      "3\t\t1308.64\n",
      "--------------------------\n",
      "4\t\t1431.40\n",
      "--------------------------\n",
      "5\t\t1565.68\n",
      "--------------------------\n",
      "6\t\t1712.55\n",
      "--------------------------\n",
      "7\t\t1873.20\n",
      "--------------------------\n",
      "8\t\t2048.92\n",
      "--------------------------\n",
      "9\t\t2241.12\n",
      "--------------------------\n",
      "10\t\t2451.35\n",
      "--------------------------\n",
      "11\t\t2681.31\n",
      "--------------------------\n",
      "12\t\t2932.83\n",
      "--------------------------\n",
      "13\t\t3207.95\n",
      "--------------------------\n",
      "14\t\t3508.88\n",
      "--------------------------\n",
      "15\t\t3838.04\n",
      "--------------------------\n",
      "16\t\t4198.07\n",
      "--------------------------\n",
      "17\t\t4591.88\n",
      "--------------------------\n",
      "18\t\t5022.63\n",
      "--------------------------\n",
      "19\t\t5493.79\n",
      "--------------------------\n",
      "20\t\t6009.15\n",
      "--------------------------\n",
      "21\t\t6572.85\n",
      "--------------------------\n",
      "22\t\t7189.43\n",
      "--------------------------\n",
      "23\t\t7863.84\n",
      "--------------------------\n",
      "24\t\t8601.53\n",
      "--------------------------\n",
      "25\t\t9408.41\n",
      "--------------------------\n",
      "26\t\t10290.98\n",
      "--------------------------\n",
      "27\t\t11256.35\n",
      "--------------------------\n",
      "28\t\t12312.27\n",
      "--------------------------\n",
      "29\t\t13467.25\n",
      "--------------------------\n",
      "30\t\t14730.57\n",
      "--------------------------\n"
     ]
    }
   ],
   "source": [
    "import math\n",
    "\n",
    "investmentAmount = eval(input(\"The amount invested: \"))\n",
    "dot_line = '-'*26\n",
    "print(dot_line)\n",
    "monthlyInterestRate = input(\"Enter annual interest rate: \")                     \n",
    "monthlyInterestRate = ( eval( monthlyInterestRate[:-1] ) / 100 ) / 12\n",
    "years = 1\n",
    "print(dot_line)\n",
    "print(\"Years\\t\\tFuture Value\")\n",
    "for x in range(30):\n",
    "    total_investment = math.floor( investmentAmount * math.pow((1 + monthlyInterestRate), (years*12) ) * 100 ) / 100.00\n",
    "    print(f\"{years}\\t\\t{'{:.2f}'.format(total_investment) }\")\n",
    "    print(dot_line)\n",
    "    years+=1"
   ]
  },
  {
   "cell_type": "markdown",
   "id": "18c8952a",
   "metadata": {},
   "source": [
    "## Question 10\n",
    "\n",
    "Some Websites impose certain rules for passwords. Write a method that checks whether a string is a valid password. Suppose the password rule is as follows:\n",
    "\n",
    "    •\tA password must have at least eight characters.\n",
    "    •\tA password consists of only letters and digits.\n",
    "    •\tA password must contain at least two digits.\n",
    "\n",
    "Write a program that prompts the user to enter a password and displays \"valid password\" if the rule is followed or \"invalid password\" otherwise.\n",
    "\n",
    "    Sample 1\n",
    "    Enter a string for password: wewew43x\n",
    "    valid password\n",
    "\n",
    "    Sample 2\n",
    "    Enter a string for password: 343a\n",
    "    invalid password"
   ]
  },
  {
   "cell_type": "code",
   "execution_count": 10,
   "id": "bc289fda",
   "metadata": {},
   "outputs": [
    {
     "name": "stdout",
     "output_type": "stream",
     "text": [
      "valid password\n",
      " \n",
      "Test Case 2\n",
      "\n",
      "invalid password\n",
      " \n",
      "Test Case 3\n",
      "\n",
      "valid password\n",
      " \n",
      "Test Case 4\n",
      "\n",
      "invalid password\n",
      " \n",
      "Test Case 5\n",
      "\n",
      "invalid password\n"
     ]
    }
   ],
   "source": [
    "def do_count(password,count):\n",
    "    check_int = '1234567890'\n",
    "    for x in password:\n",
    "        if check_int.find(x) != -1:\n",
    "            count+=1\n",
    "    return count\n",
    "\n",
    "def do_string_count(password,string_count):\n",
    "    check_string = 'abcdefghijklmnopqrstuvwxyz'\n",
    "    for x in password:\n",
    "        if check_string.find(x) != -1:\n",
    "            string_count+=1\n",
    "    return string_count\n",
    "\n",
    "def check_special_char(password):\n",
    "    check_char = 'abcdefghijklmnopqrstuvwxyz1234567890'\n",
    "    for x in password:\n",
    "        if check_char.find(x) == -1:\n",
    "            return False\n",
    "    return True\n",
    "\n",
    "    \n",
    "def qus_10(password):\n",
    "    count = 0\n",
    "    string_count = 0\n",
    "    if len(password) >= 8:\n",
    "        count = do_count(password,count)\n",
    "        string_count = do_string_count(password,string_count)\n",
    "        if count >= 2 and string_count>=1 and check_special_char(password) == True:\n",
    "            return \"valid password\"\n",
    "    return \"invalid password\"\n",
    "\n",
    "print(qus_10('wewew43x'))\n",
    "print(' \\nTest Case 2\\n')\n",
    "print(qus_10('wewewa3x'))\n",
    "print(' \\nTest Case 3\\n')\n",
    "print(qus_10('343333a3'))\n",
    "print(' \\nTest Case 4\\n')\n",
    "print(qus_10('34333353'))\n",
    "print(' \\nTest Case 5\\n')\n",
    "print(qus_10('343333@3'))"
   ]
  },
  {
   "cell_type": "code",
   "execution_count": null,
   "id": "619c3f07",
   "metadata": {},
   "outputs": [],
   "source": []
  }
 ],
 "metadata": {
  "kernelspec": {
   "display_name": "Python 3",
   "language": "python",
   "name": "python3"
  },
  "language_info": {
   "codemirror_mode": {
    "name": "ipython",
    "version": 3
   },
   "file_extension": ".py",
   "mimetype": "text/x-python",
   "name": "python",
   "nbconvert_exporter": "python",
   "pygments_lexer": "ipython3",
   "version": "3.8.8"
  }
 },
 "nbformat": 4,
 "nbformat_minor": 5
}
