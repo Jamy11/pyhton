{
 "cells": [
  {
   "cell_type": "markdown",
   "id": "bf7460ca",
   "metadata": {},
   "source": [
    "# ENGI9818 Assignment 1\n",
    "\n",
    "Due on Wednesday, February 1st, 2023\n",
    "\n",
    "\n",
    "*Any two identical submitted assignments from different students will be considered as copies of each other.*\n",
    "\n",
    "Save your assignment as an `ipynb` file with a filename ”Group#.ipynb” [For instance, Group01, Group02, ...]. Submit your assignment through the BrightSpace dropbox. Note: This is a group assignment which means in order to see the dropbox folder, you must join one of the groups in BrightSpace.\n",
    "\n",
    "### Group #:"
   ]
  },
  {
   "cell_type": "markdown",
   "id": "ab303cab",
   "metadata": {},
   "source": [
    "## Question 1\n",
    "\n",
    "Write a program that reads in investment amount, annual interest rate, and number of years, and displays the future investment value using the following formula:\n",
    "and displays the future investment value using the following formula:\n",
    "\n",
    "futureInvestmentValue = \n",
    "  investmentAmount * (1 + monthlyInterestRate)numberOfYears*12\n",
    "\n",
    "For example, if you enter amount 1000, annual interest rate 3.25%, and number of years 1, the future investment value is 1032.98. \n",
    "\n",
    "Hint: Use the Math.pow(a, b) method to compute a raised to the power of b. \n",
    "\n",
    "Here is a sample run:\n",
    "\n",
    "\n",
    "Sample 1:<br>\n",
    "Enter investment amount: 1000<br>\n",
    "Enter annual interest rate: 4.25<br>\n",
    "Enter number of years: 1<br>\n",
    "Accumulated value is 1043.34<br>\n",
    "\n",
    "Sample 2:<br>\n",
    "Enter investment amount: 1000<br>\n",
    "Enter annual interest rate: 4.25<br>\n",
    "Enter number of years: 1<br>\n",
    "Accumulated value is 1043.34<br>"
   ]
  },
  {
   "cell_type": "code",
   "execution_count": null,
   "id": "c0b4c052",
   "metadata": {},
   "outputs": [],
   "source": []
  },
  {
   "cell_type": "markdown",
   "id": "2ceb3709",
   "metadata": {},
   "source": [
    "## Question 2\n",
    "\n",
    "Write a program that reads the following information and prints a payroll statement: <br>\n",
    "\n",
    "    Employee’s name (e.g., Smith)\n",
    "    Number of hours worked in a week (e.g., 10)\n",
    "    Hourly pay rate (e.g., 6.75)\n",
    "    Federal tax withholding rate (e.g., 20%)\n",
    "    State tax withholding rate (e.g., 9%)\n",
    "\n",
    "A sample run is shown below:\n",
    "\n",
    "    <Output>\n",
    "    Enter employee's name: Smith\n",
    "    Enter number of hours worked in a week: 10\n",
    "    Enter hourly pay rate: 6.75\n",
    "    Enter federal tax withholding rate: 0.20\n",
    "    Enter state tax withholding rate: 0.09\n",
    "\n",
    "    Employee Name: Smith\n",
    "    Hours Worked:  10.0\n",
    "    Pay Rate:  $6.75\n",
    "Gross Pay:  $67.5\n",
    "    Deductions:\n",
    "        Federal Withholding (20.0%):  $13.5\n",
    "    State Withholding (9.0%):  $6.07\n",
    "        Total Deduction:  $19.57\n",
    "Net Pay:   $47.92\n",
    "    <End Output>"
   ]
  },
  {
   "cell_type": "markdown",
   "id": "02b84a90",
   "metadata": {},
   "source": [
    "## Question 3\n",
    "\n",
    "Write a function that does the following. Given two float values, return their multiplication. Unless the two values are the same, then return triple their sum. Then test your function for both cases."
   ]
  },
  {
   "cell_type": "code",
   "execution_count": null,
   "id": "3457d826",
   "metadata": {},
   "outputs": [],
   "source": []
  },
  {
   "cell_type": "markdown",
   "id": "39fd5be9",
   "metadata": {},
   "source": [
    "## Question 4\n",
    "Define a function is_it_palindrome() that recognizes palindromes (i.e. words that look the same written backwards). For example, is_it_palindrome(\"Radar\") should return True. Then write a for loop to test the function for all strings in the list,\n",
    "```python \n",
    "l=[\n",
    "\"Anna\",\n",
    "\"Civic\",\n",
    "\"Kayak\",\n",
    "\"Level\",\n",
    "\"Madam\",\n",
    "\"Mom\",\n",
    "\"Noon\",\n",
    "\"Racecar\",\n",
    "\"Computer\"\n",
    "]"
   ]
  },
  {
   "cell_type": "code",
   "execution_count": null,
   "id": "3452b2e2",
   "metadata": {},
   "outputs": [],
   "source": []
  },
  {
   "cell_type": "markdown",
   "id": "607ab474",
   "metadata": {},
   "source": [
    "## Question 5\n",
    "\n",
    "\n",
    "Write a function that does the following. Given an int n, return True if it is within 20 of 50 or 150 (the distance between the number of either 50 or 150 is less than 20). Note that the given int n could be positive or negative or zero. You must use the function abs(num) to compute the absolute value of a number. Then test your function."
   ]
  },
  {
   "cell_type": "code",
   "execution_count": null,
   "id": "4501711e",
   "metadata": {},
   "outputs": [],
   "source": []
  },
  {
   "cell_type": "markdown",
   "id": "80799c73",
   "metadata": {},
   "source": [
    "## Question 6\n",
    "Write a function that takes a character (i.e. a string of length 1) and returns True if it is a vowel, False otherwise. Write the the vowels as a string \"aAeEiIoOuU\", and make a condition if the input character is in the vowels string. Test the function."
   ]
  },
  {
   "cell_type": "code",
   "execution_count": null,
   "id": "e4d5e17a",
   "metadata": {},
   "outputs": [],
   "source": []
  },
  {
   "cell_type": "markdown",
   "id": "2d735954",
   "metadata": {},
   "source": [
    "## Question 7\n",
    "Write a program that reads integers, finds the largest of them, and counts its occurrences. Assume that the input ends with number 0. Suppose that you entered 3 5 2 5 5 5 0; the program finds that the largest is 5 and the occurrence count for 5 is 4. (Hint: Maintain two variables, max and count. max stores the current max number, and count stores its occurrences. Initially, assign the first number to max and 1 to count. Compare each subsequent number with max. If the number is greater than max, assign it to max and reset count to 1. If the number is equal to max, increment count by 1.)\n",
    "\n",
    "Here are sample runs of the program:\n",
    "\n",
    "Sample 1:<br>\n",
    "Enter numbers: 3<br>\n",
    "5<br>\n",
    "2<br>\n",
    "5<br>\n",
    "5<br>\n",
    "5<br>\n",
    "0<br>\n",
    "The largest number is 5 The occurrence count of the largest number is 4<br>\n",
    "\n",
    "Sample 2:<br>\n",
    "Enter numbers: 3 6 5 4 2 4 5 4 5 5 0<br>\n",
    "The largest number is 6 The occurrence count of the largest number is 1<br>"
   ]
  },
  {
   "cell_type": "code",
   "execution_count": null,
   "id": "159bcc47",
   "metadata": {},
   "outputs": [],
   "source": []
  },
  {
   "cell_type": "markdown",
   "id": "435c5d32",
   "metadata": {},
   "source": [
    "## Question 8\n",
    "\n",
    "In English, the present participle is formed by adding the suffix -ing to the infinite form: go -> going. A simple set of heuristic rules can be given as follows:\n",
    "\n",
    "* If the verb ends in e, drop the e and add ing (if not exception: be, see, flee, knee, etc.)\n",
    "* If the verb ends in ie, change ie to y and add ing\n",
    "* For words consisting of consonant-vowel-consonant, double the final letter before adding ing\n",
    "* By default just add ing\n",
    "\n",
    "Your task in this exercise is to define a function make_ing_form_English() which given a verb in infinitive form returns its present participle form. Test your function with words such as lie, see, move and hug. However, you must not expect such simple rules to work for all cases."
   ]
  },
  {
   "cell_type": "code",
   "execution_count": null,
   "id": "548a82c2",
   "metadata": {},
   "outputs": [],
   "source": []
  },
  {
   "cell_type": "markdown",
   "id": "b3969bc1",
   "metadata": {},
   "source": [
    "## Question 9\n",
    "\n",
    "Write a function that computes future investment value at a given interest rate for a specified number of years. The future investment is determined using the following formula:\n",
    "\n",
    "futureInvestmentValue = <br>\n",
    "  investmentAmount x (1 + monthlyInterestRate)numberOfYears*12\n",
    "\n",
    "Use the following method header:<br>\n",
    "\n",
    "def futureInvestmentValue(<br>\n",
    "    investmentAmount, monthlyInterestRate, years)<br>\n",
    "\n",
    "For example, futureInvestmentValue(10000, 0.05/12, 5) returns 12833.59. <br>\n",
    "\n",
    "Write a test program that prompts the user to enter the investment amount (e.g., 1000) and the interest rate (e.g., 9%) and prints a table that displays future value for the years from 1 to 30, as shown below:<br>\n",
    "\n",
    "    The amount invested: 1000\n",
    "    --------------------------\n",
    "    Annual interest rate: 9%\n",
    "    --------------------------\n",
    "    Years\t\tFuture Value\n",
    "    --------------------------\n",
    "    1\t\t\t 1093.80\n",
    "    --------------------------\n",
    "    2\t\t\t 1196.41\n",
    "    --------------------------\n",
    "    ...\n",
    "    --------------------------\n",
    "    29\t\t\t13467.25\n",
    "    --------------------------\n",
    "    30\t\t\t14730.57\n",
    "    --------------------------\n"
   ]
  },
  {
   "cell_type": "code",
   "execution_count": null,
   "id": "80169e92",
   "metadata": {},
   "outputs": [],
   "source": []
  },
  {
   "cell_type": "markdown",
   "id": "18c8952a",
   "metadata": {},
   "source": [
    "## Question 10\n",
    "\n",
    "Some Websites impose certain rules for passwords. Write a method that checks whether a string is a valid password. Suppose the password rule is as follows:\n",
    "\n",
    "    •\tA password must have at least eight characters.\n",
    "    •\tA password consists of only letters and digits.\n",
    "    •\tA password must contain at least two digits.\n",
    "\n",
    "Write a program that prompts the user to enter a password and displays \"valid password\" if the rule is followed or \"invalid password\" otherwise.\n",
    "\n",
    "    Sample 1\n",
    "    Enter a string for password: wewew43x\n",
    "    valid password\n",
    "\n",
    "    Sample 2\n",
    "    Enter a string for password: 343a\n",
    "    invalid password"
   ]
  },
  {
   "cell_type": "code",
   "execution_count": null,
   "id": "bc289fda",
   "metadata": {},
   "outputs": [],
   "source": []
  }
 ],
 "metadata": {
  "kernelspec": {
   "display_name": "Python 3",
   "language": "python",
   "name": "python3"
  },
  "language_info": {
   "codemirror_mode": {
    "name": "ipython",
    "version": 3
   },
   "file_extension": ".py",
   "mimetype": "text/x-python",
   "name": "python",
   "nbconvert_exporter": "python",
   "pygments_lexer": "ipython3",
   "version": "3.8.8"
  }
 },
 "nbformat": 4,
 "nbformat_minor": 5
}
