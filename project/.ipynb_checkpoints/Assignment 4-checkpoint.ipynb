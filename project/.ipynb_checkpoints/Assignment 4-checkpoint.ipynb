{
 "cells": [
  {
   "cell_type": "markdown",
   "id": "bf7460ca",
   "metadata": {},
   "source": [
    "# ENGI9818 Assignment 4\n",
    "\n",
    "Due on Tuesday, April 4, 2023\n",
    "\n",
    "\n",
    "*Any two identical submitted assignments from different students will be considered as copies of each other.*\n",
    "\n",
    "Save your assignment as an `ipynb` file with a filename ”Group#.ipynb” [For instance, Group01, Group02, ...]. The solution for each question along with enough number of test cases must be inside an individial cell. \n",
    "For each question, create at least 4 test cases use print command to display their. In the case of boundary conditions, you must create at least one test case for each boundary case.\n",
    "Submit your assignment through the BrightSpace dropbox. \n",
    "### Group #:"
   ]
  },
  {
   "cell_type": "markdown",
   "id": "2ceb3709",
   "metadata": {},
   "source": [
    "In this assignment, you have to implement the LinkedList class introduced in Chapter 18 and all of its fields and methods (see slide \\#15 for the list of fields and methods that must be implemented and tested). Furthermore, implement a printList method that prints elements of a LinkedList object as a string. You will use this method for testing your other LinkedList methods. For each operation handle possible exceptions (if there is any) and provide at least 3 test cases. Choose your test cases appropriately such that they cover all boundary cases and also exceptions. For each test case, use the printList method to print your LinkedList object after each calling each operation. Also use the print command to print an appropriate message whenever as exception is raised."
   ]
  },
  {
   "cell_type": "code",
   "execution_count": null,
   "id": "316cbf1f",
   "metadata": {},
   "outputs": [],
   "source": []
  }
 ],
 "metadata": {
  "kernelspec": {
   "display_name": "Python 3",
   "language": "python",
   "name": "python3"
  },
  "language_info": {
   "codemirror_mode": {
    "name": "ipython",
    "version": 3
   },
   "file_extension": ".py",
   "mimetype": "text/x-python",
   "name": "python",
   "nbconvert_exporter": "python",
   "pygments_lexer": "ipython3",
   "version": "3.8.8"
  }
 },
 "nbformat": 4,
 "nbformat_minor": 5
}
