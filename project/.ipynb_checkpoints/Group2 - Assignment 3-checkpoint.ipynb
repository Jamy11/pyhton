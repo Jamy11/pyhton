{
 "cells": [
  {
   "cell_type": "markdown",
   "id": "bf7460ca",
   "metadata": {},
   "source": [
    "# ENGI9818 Assignment 3\n",
    "\n",
    "Due on Tuesday, March 21, 2023\n",
    "\n",
    "\n",
    "*Any two identical submitted assignments from different students will be considered as copies of each other.*\n",
    "\n",
    "Save your assignment as an `ipynb` file with a filename ”Group#.ipynb” [For instance, Group01, Group02, ...]. The solution for each question along with enough number of test cases must be inside an individial cell. \n",
    "For each question, create at least two test cases use print command to display their. In the case of boundary conditions, you must create at least one test case for each boundary case.\n",
    "Submit your assignment through the BrightSpace dropbox. \n",
    "### Group #:"
   ]
  },
  {
   "cell_type": "code",
   "execution_count": null,
   "id": "4bc94b1f",
   "metadata": {},
   "outputs": [],
   "source": []
  },
  {
   "cell_type": "markdown",
   "id": "02b84a90",
   "metadata": {},
   "source": [
    "## Question 1\n",
    "\n",
    "Write a program that removes all the occurrences of a specified string from a text file. Your program should prompt the user to enter a file and a string to be removed (you musy attach a test file for the first 3 questions, and the TA will also test the code with her own file(s)). Here is a sample run:\n",
    "\n",
    "<Output><br>\n",
    "Enter a filename: test.txt<br>\n",
    "Enter the string to be removed: morning<br>\n",
    "Done<br>\n",
    "<End Output>\n"
   ]
  },
  {
   "cell_type": "code",
   "execution_count": 90,
   "id": "146ad2cf",
   "metadata": {},
   "outputs": [
    {
     "name": "stdout",
     "output_type": "stream",
     "text": [
      "hello my name is jamy\n",
      "jamy i love JAMY\n",
      " \n",
      "Done\n",
      "hello my name is \n",
      " i love JAMY\n",
      " \n"
     ]
    }
   ],
   "source": [
    "def makeString(filename,givenstring):\n",
    "\n",
    "    with open(filename,'r') as file:\n",
    "        content = file.read()\n",
    "        \n",
    "    new_content = content.replace(givenstring,'')\n",
    "    \n",
    "    with open(filename,'w') as file:\n",
    "        file.write(new_content)\n",
    "    \n",
    "    return 'Done'\n",
    "\n",
    "filename = 'qus 1.txt' # input('Enter a filename: ')   \n",
    "givenstring = 'jamy' # input('Enter the string to be removed: ')\n",
    "\n",
    "file = open(filename,'r')\n",
    "content = file.read()"
   ]
  },
  {
   "cell_type": "markdown",
   "id": "8a7f695f",
   "metadata": {},
   "source": [
    "## Question 2\n",
    "\n",
    "Rewrite a program that prompts the user to enter a text file name and displays the number of vowels and consonants in the file. Use a set to store the vowels A, E, I, O, and U. "
   ]
  },
  {
   "cell_type": "code",
   "execution_count": 99,
   "id": "da0363df",
   "metadata": {},
   "outputs": [
    {
     "name": "stdout",
     "output_type": "stream",
     "text": [
      "Enter a filename: qus 2.txt\n",
      "Vowel Count 1 \n",
      "Consonant Count 2\n"
     ]
    }
   ],
   "source": [
    "def countVowel(filename):\n",
    "    with open(filename,'r') as file:\n",
    "        content = file.read().lower()\n",
    "        \n",
    "    vowel = 'aeiou'\n",
    "    vowel_count = 0\n",
    "    const_count = 0\n",
    "        \n",
    "    for letter in content:\n",
    "        if vowel.find(letter) >=0:\n",
    "            vowel_count += 1\n",
    "        else:\n",
    "            const_count += 1\n",
    "            \n",
    "    return vowel_count, const_count\n",
    "            \n",
    "    \n",
    "\n",
    "filename = input('Enter a filename: ')\n",
    "\n",
    "vowel_count, const_count =  countVowel(filename)\n",
    "\n",
    "print(   'Vowel Count',vowel_count,   '\\nConsonant Count',const_count   )\n"
   ]
  },
  {
   "cell_type": "markdown",
   "id": "a8ab0811",
   "metadata": {},
   "source": [
    "## Question 3\n",
    "\n",
    "Write a program that reads in a Python source code file and counts the occurrence of each keyword in the file. Your pro- gram should prompt the user to enter the Python source code filename."
   ]
  },
  {
   "cell_type": "code",
   "execution_count": 2,
   "id": "1279a7bd",
   "metadata": {},
   "outputs": [
    {
     "name": "stdout",
     "output_type": "stream",
     "text": [
      "{'def': 1, 'if': 1, 'return': 1}\n"
     ]
    }
   ],
   "source": [
    "import keyword\n",
    "def countKeyword(filename):\n",
    "    keyword_list = {}\n",
    "    \n",
    "    with open(filename,'r') as file:\n",
    "        \n",
    "        code = file.read().split()\n",
    "    \n",
    "    for key in code:\n",
    "        if keyword.iskeyword(key):\n",
    "            if key in keyword_list:\n",
    "                keyword_list[key] += 1\n",
    "            else:\n",
    "                keyword_list[key] = 1\n",
    "    \n",
    "    return keyword_list\n",
    "\n",
    "print(countKeyword('qus3.txt'))"
   ]
  },
  {
   "cell_type": "markdown",
   "id": "8ab4e5de",
   "metadata": {},
   "source": [
    "## Question 4\n",
    "\n",
    "Write a recursive function that dis- plays a string reversely on the console using the following header:\n",
    "def reverseDisplay(value):\n",
    "For example, reverseDisplay(\"abcd\") displays dcba. Write a test program\n",
    "that prompts the user to enter a string and displays its reversal. For this and the next question provide at least 4 test cases."
   ]
  },
  {
   "cell_type": "code",
   "execution_count": 137,
   "id": "5f5e2025",
   "metadata": {},
   "outputs": [
    {
     "name": "stdout",
     "output_type": "stream",
     "text": [
      "dcba"
     ]
    }
   ],
   "source": [
    "def reverseDisplay(given_str):\n",
    "    if len(given_str) == 0:\n",
    "        return \n",
    "    print(given_str[-1], end='')\n",
    "    reverseDisplay(given_str[0:-1])\n",
    "    \n",
    "    \n",
    "reverseDisplay('abcd')"
   ]
  },
  {
   "cell_type": "markdown",
   "id": "0614cb11",
   "metadata": {},
   "source": [
    "## Question 5\n",
    "\n",
    "Write a recursive function to return the number of uppercase letters in a string using the following function headers:<br>\n",
    "def countUppercase(s):<br>\n",
    "def countUppercaseHelper(s, high):<br>\n",
    "Write a test program that prompts the user to enter a string and displays the num- ber of uppercase letters in the string."
   ]
  },
  {
   "cell_type": "code",
   "execution_count": 9,
   "id": "e41c44ca",
   "metadata": {},
   "outputs": [
    {
     "name": "stdout",
     "output_type": "stream",
     "text": [
      "4\n",
      "2\n"
     ]
    }
   ],
   "source": [
    "def countUppercase(s):\n",
    "    high = 0\n",
    "    return countUppercaseHelper(s,high)\n",
    "\n",
    "def countUppercaseHelper(s, high):\n",
    "    \n",
    "    if len(s) == 0:\n",
    "        return high\n",
    "\n",
    "    if s[0].isupper():\n",
    "        high+= 1\n",
    "    return countUppercaseHelper( s[1:len(s)], high)\n",
    "\n",
    "print(countUppercase('AbsdAAA'))\n",
    "print(countUppercase('Hello World'))\n"
   ]
  },
  {
   "cell_type": "code",
   "execution_count": null,
   "id": "68e3bd8d",
   "metadata": {},
   "outputs": [],
   "source": []
  }
 ],
 "metadata": {
  "kernelspec": {
   "display_name": "Python 3",
   "language": "python",
   "name": "python3"
  },
  "language_info": {
   "codemirror_mode": {
    "name": "ipython",
    "version": 3
   },
   "file_extension": ".py",
   "mimetype": "text/x-python",
   "name": "python",
   "nbconvert_exporter": "python",
   "pygments_lexer": "ipython3",
   "version": "3.8.8"
  }
 },
 "nbformat": 4,
 "nbformat_minor": 5
}
