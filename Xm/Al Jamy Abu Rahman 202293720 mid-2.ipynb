{
 "cells": [
  {
   "cell_type": "code",
   "execution_count": 1,
   "id": "96f6d82c",
   "metadata": {},
   "outputs": [
    {
     "name": "stdout",
     "output_type": "stream",
     "text": [
      "Input file name: hello\n",
      "The file already exists\n",
      "Input file name: world.txt\n",
      "[1, 2, 3, 5, 5, 6, 7, 7, 8, 9, 12, 12, 14, 16, 16, 17, 18, 19, 20, 20, 24, 24, 25, 26, 29, 31, 31, 34, 35, 35, 38, 39, 40, 43, 44, 44, 44, 44, 45, 46, 47, 48, 50, 51, 51, 53, 54, 56, 56, 57, 58, 59, 60, 60, 61, 61, 61, 62, 62, 63, 64, 65, 65, 67, 68, 69, 69, 69, 70, 70, 70, 72, 72, 74, 74, 75, 75, 78, 78, 79, 79, 79, 80, 81, 81, 83, 86, 89, 92, 93, 94, 94, 94, 95, 96, 97, 97, 98, 99, 100]\n"
     ]
    }
   ],
   "source": [
    "import random\n",
    "\n",
    "def makefile(filename):\n",
    "    i = True\n",
    "    try:\n",
    "        with open(filename, 'x') as f:\n",
    "            pass\n",
    "    except FileExistsError:\n",
    "        return (\"The file already exists\")\n",
    "\n",
    "    with open(filename, 'w') as f:\n",
    "        for i in range(100):\n",
    "            f.write(str(random.randint(1, 100)) + ' ')\n",
    "\n",
    "    with open(filename, 'r') as f:\n",
    "        data = f.read().split()\n",
    "        data = [int(i) for i in data]\n",
    "        data.sort()\n",
    "    return data\n",
    "\n",
    "# 1st test case \n",
    "i = input(\"Input file name: \")\n",
    "print(makefile(i))\n",
    "\n",
    "# 2nd test case\n",
    "i = input(\"Input file name: \")\n",
    "print(makefile(i))"
   ]
  },
  {
   "cell_type": "code",
   "execution_count": 2,
   "id": "90092e1f",
   "metadata": {},
   "outputs": [
    {
     "name": "stdout",
     "output_type": "stream",
     "text": [
      "Please give the list: jamy jj jamy\n",
      "Search char in list: j\n",
      "4\n",
      "Please give the list: hello world hi h\n",
      "Search char in list: h\n",
      "3\n"
     ]
    }
   ],
   "source": [
    "def count(chars, ch):\n",
    "    high = 0\n",
    "    return countHelper(chars, ch, high)\n",
    "    \n",
    "def countHelper(chars, ch, high):\n",
    "    \n",
    "    if len(chars) == 0:\n",
    "        return high\n",
    "    for letter in chars[0]:\n",
    "        if letter == ch:\n",
    "            high +=1\n",
    "    return countHelper(chars[1:len(chars)], ch , high)\n",
    "\n",
    "i = list(input('Please give the list: ').split(' '))\n",
    "j = input(\"Search char in list: \")\n",
    "print(count(i,j))\n",
    "\n",
    "\n",
    "i = list(input('Please give the list: ').split(' '))\n",
    "j = input(\"Search char in list: \")\n",
    "print(count(i,j))"
   ]
  },
  {
   "cell_type": "code",
   "execution_count": null,
   "id": "47d156b8",
   "metadata": {},
   "outputs": [],
   "source": []
  }
 ],
 "metadata": {
  "kernelspec": {
   "display_name": "Python 3",
   "language": "python",
   "name": "python3"
  },
  "language_info": {
   "codemirror_mode": {
    "name": "ipython",
    "version": 3
   },
   "file_extension": ".py",
   "mimetype": "text/x-python",
   "name": "python",
   "nbconvert_exporter": "python",
   "pygments_lexer": "ipython3",
   "version": "3.8.8"
  }
 },
 "nbformat": 4,
 "nbformat_minor": 5
}
