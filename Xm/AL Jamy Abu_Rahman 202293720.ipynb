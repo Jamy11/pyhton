{
 "cells": [
  {
   "cell_type": "code",
   "execution_count": 1,
   "id": "69de6ca8",
   "metadata": {},
   "outputs": [
    {
     "name": "stdout",
     "output_type": "stream",
     "text": [
      "1 0.3333\n",
      "2 0.7333\n",
      "3 1.1619\n",
      "4 1.6063\n",
      "5 2.0609\n",
      "6 2.5224\n",
      "7 2.9891\n",
      "8 3.4597\n",
      "9 3.9334\n",
      "10 4.4096\n",
      "11 4.8878\n",
      "12 5.3678\n",
      "13 5.8493\n",
      "14 6.3321\n",
      "15 6.8159\n",
      "16 7.3008\n",
      "17 7.7865\n",
      "18 8.273\n",
      "19 8.7602\n",
      "20 9.248\n"
     ]
    }
   ],
   "source": [
    "def qus_1(i):\n",
    "    list_arr = []\n",
    "    sum = 0\n",
    "    for x in range(1,i+1):\n",
    "        sum += x/( (2*x) + 1 ) \n",
    "        list_arr.append( float(format(sum , '.4f')) )\n",
    "    return list_arr\n",
    "\n",
    "values = qus_1(20)\n",
    "for x in range(1,len(values)+1):\n",
    "    print(f\"{x} {values[x-1]}\")\n",
    "    "
   ]
  },
  {
   "cell_type": "code",
   "execution_count": 2,
   "id": "85931010",
   "metadata": {},
   "outputs": [],
   "source": [
    "\n",
    "import math\n",
    "\n",
    "class Circle2D:\n",
    "    def __init__(self, x=0.0, y=0.0, radius=0.0):\n",
    "        self._x = x\n",
    "        self._y = y\n",
    "        self._radius = radius\n",
    "    \n",
    "    @property\n",
    "    def val_x(self):\n",
    "        return self.x\n",
    "    \n",
    "    @val_x.setter\n",
    "    def val_x(self, x):\n",
    "        self.x = x\n",
    "    \n",
    "    @property\n",
    "    def val_y(self):\n",
    "        return y\n",
    "    \n",
    "    @val_y.setter\n",
    "    def val_y(self, y):\n",
    "        self.y = y\n",
    "    \n",
    "    def getRadius(self):\n",
    "        return self._radius\n",
    "    \n",
    "    def setRadius(self, radius):\n",
    "        self._radius = radius\n",
    "    \n",
    "    def getArea(self):\n",
    "        return math.pi * self._radius**2\n",
    "    \n",
    "    def getPerimeter(self):\n",
    "        return 2 * math.pi * self._radius\n",
    "    \n",
    "    def containsPoint(self, x, y):\n",
    "        return math.sqrt((x - self._x)**2 + (y - self._y)**2) < self._radius\n",
    "    \n",
    "    def contains(self, circle2D):\n",
    "        return math.sqrt((circle2D.getX() - self._x)**2 + (circle2D.getY() - self._y)**2) + circle2D.getRadius() < self._radius\n",
    "    \n",
    "    def overlaps(self, circle2D):\n",
    "        distance = math.sqrt((circle2D.getX() - self._x)**2 + (circle2D.getY() - self._y)**2)\n",
    "        return distance < (self._radius + circle2D.getRadius())\n"
   ]
  },
  {
   "cell_type": "code",
   "execution_count": null,
   "id": "9eaf9926",
   "metadata": {},
   "outputs": [],
   "source": []
  }
 ],
 "metadata": {
  "kernelspec": {
   "display_name": "Python 3",
   "language": "python",
   "name": "python3"
  },
  "language_info": {
   "codemirror_mode": {
    "name": "ipython",
    "version": 3
   },
   "file_extension": ".py",
   "mimetype": "text/x-python",
   "name": "python",
   "nbconvert_exporter": "python",
   "pygments_lexer": "ipython3",
   "version": "3.8.8"
  }
 },
 "nbformat": 4,
 "nbformat_minor": 5
}
