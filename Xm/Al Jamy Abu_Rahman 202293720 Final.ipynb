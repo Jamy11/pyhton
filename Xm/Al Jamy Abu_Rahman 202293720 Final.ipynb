{
 "cells": [
  {
   "cell_type": "code",
   "execution_count": 1,
   "id": "8a875d65",
   "metadata": {},
   "outputs": [
    {
     "name": "stdout",
     "output_type": "stream",
     "text": [
      "[0, 1, 1, 1, 1, 2, 2, 2, 4, 6, 8, 8, 10, 24, 24, 57, 88, 512, 651]\n"
     ]
    }
   ],
   "source": [
    "def mergeList(a=[],b=[],c=[],d=[],e=[]):\n",
    "    newList = a[:] + b[:] + c[:] + d[:] + e[:]  #copying 5 list in newList so space complexity = 0(n)\n",
    "    merge_sort(newList) #O(nlogn)\n",
    "    return newList\n",
    "\n",
    "def merge_sort(arr):\n",
    "    if len(arr) > 1:\n",
    "        mid = len(arr) // 2\n",
    "        left_half = arr[:mid]\n",
    "        right_half = arr[mid:]\n",
    "        \n",
    "        merge_sort(left_half)\n",
    "        merge_sort(right_half)\n",
    "        \n",
    "        i = j = k = 0\n",
    "        \n",
    "        while i < len(left_half) and j < len(right_half):\n",
    "            if left_half[i] < right_half[j]:\n",
    "                arr[k] = left_half[i]\n",
    "                i += 1\n",
    "            else:\n",
    "                arr[k] = right_half[j]\n",
    "                j += 1\n",
    "            k += 1\n",
    "        \n",
    "        while i < len(left_half):\n",
    "            arr[k] = left_half[i]\n",
    "            i += 1\n",
    "            k += 1\n",
    "        \n",
    "        while j < len(right_half):\n",
    "            arr[k] = right_half[j]\n",
    "            j += 1\n",
    "            k += 1\n",
    "\n",
    "def main():\n",
    "    print( mergeList( [1,2,4,6,8], [1,2,8,10,24], [1,24,57,88], [0,1,2], [512,651] ) )\n",
    "main()\n",
    "\n",
    "# Time Complexity is = 0(nLogn)\n",
    "# Time complexty of the code is O(nLog n). The cocationation of 5 list is O(n) and to sort\n",
    "# the newList it takes O(nlogn) because it check the list n time and then divides in half so n/2 is \n",
    "# always happening in the recurssion that is why then\n",
    "# Time Complexity is = 0(nLogn)\n",
    "\n",
    "#Space complexity is O(n)\n",
    "# Because it concat all the list in a singel list and at that time it goes all the element of the five \n",
    "# list (n times) and copys it to a singel on. So\n",
    "#Space complexity = O(n)"
   ]
  },
  {
   "cell_type": "code",
   "execution_count": 2,
   "id": "24115e6f",
   "metadata": {},
   "outputs": [
    {
     "name": "stdout",
     "output_type": "stream",
     "text": [
      "Color =  Dark Blue\n",
      "Area =  25\n",
      "Perimeter =  20\n",
      "-------------- 2nd Test case --------------\n",
      "Color =  Dark Red\n",
      "Area =  100\n",
      "Perimeter =  40\n",
      "Area =  400\n",
      "Perimeter =  80\n"
     ]
    }
   ],
   "source": [
    "class geomtrticObject:\n",
    "    def __init__(self, color = 'Red', filled = False):\n",
    "        self.__color = color\n",
    "        self.__filled = filled\n",
    "        \n",
    "    def getcolor(self):\n",
    "        return self.__color\n",
    "    \n",
    "    def setcolor(self, color):\n",
    "        self.__color = color\n",
    "        \n",
    "    def isFilled(self):\n",
    "        return self.__filled\n",
    "    \n",
    "    def setFilled(self, filled):\n",
    "        self.__filled = filled\n",
    "        \n",
    "class Square(geomtrticObject):\n",
    "    \n",
    "    def __init__(self,side):\n",
    "        super().__init__()\n",
    "        self.__side = side\n",
    "    \n",
    "    def setSide(self,side):\n",
    "        self.__side = side\n",
    "        \n",
    "    def getSide(self):\n",
    "        return self.__side\n",
    "    \n",
    "    def getArea(self):\n",
    "        return self.__side ** 2\n",
    "    \n",
    "    def getPerimeter(self):\n",
    "        return 4 * self.__side\n",
    "    \n",
    "\n",
    "        \n",
    "my_sqare1 = Square(5)\n",
    "my_sqare1.setcolor('Dark Blue')\n",
    "print('Color = ',my_sqare1.getcolor())\n",
    "print('Area = ',my_sqare1.getArea())\n",
    "print('Perimeter = ',my_sqare1.getPerimeter())\n",
    "\n",
    "print('-------------- 2nd Test case --------------')\n",
    "my_sqare2 = Square(10)\n",
    "my_sqare2.setcolor('Dark Red')\n",
    "print('Color = ',my_sqare2.getcolor())\n",
    "print('Area = ',my_sqare2.getArea())\n",
    "print('Perimeter = ',my_sqare2.getPerimeter())\n",
    "\n",
    "my_sqare2.setSide(20)\n",
    "print('Area = ',my_sqare2.getArea())\n",
    "print('Perimeter = ',my_sqare2.getPerimeter())\n"
   ]
  },
  {
   "cell_type": "code",
   "execution_count": null,
   "id": "3cc7ce47",
   "metadata": {},
   "outputs": [],
   "source": []
  }
 ],
 "metadata": {
  "kernelspec": {
   "display_name": "Python 3",
   "language": "python",
   "name": "python3"
  },
  "language_info": {
   "codemirror_mode": {
    "name": "ipython",
    "version": 3
   },
   "file_extension": ".py",
   "mimetype": "text/x-python",
   "name": "python",
   "nbconvert_exporter": "python",
   "pygments_lexer": "ipython3",
   "version": "3.8.8"
  }
 },
 "nbformat": 4,
 "nbformat_minor": 5
}
